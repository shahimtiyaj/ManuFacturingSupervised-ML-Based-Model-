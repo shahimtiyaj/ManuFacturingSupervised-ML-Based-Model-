{
 "cells": [
  {
   "cell_type": "code",
   "execution_count": 15,
   "id": "70999cf9",
   "metadata": {},
   "outputs": [],
   "source": [
    "import matplotlib.pyplot as plt\n",
    "import cv2\n",
    "import numpy as np\n",
    "from keras.models import Sequential\n",
    "from keras.layers import Dense, Flatten, Conv2D, MaxPool2D, Dropout\n",
    "from tensorflow.keras.optimizers import SGD , Adam\n",
    "from keras.callbacks import ReduceLROnPlateau, EarlyStopping\n",
    "from tensorflow.keras.utils import to_categorical\n",
    "from sklearn.utils import shuffle\n",
    "from sklearn.feature_extraction.text import TfidfVectorizer\n",
    "\n",
    "#Import important Libraries\n",
    "from sklearn.model_selection import train_test_split\n",
    "from sklearn.preprocessing import StandardScaler, MinMaxScaler  #library to normalize\n",
    "from sklearn.metrics import accuracy_score, f1_score, precision_score, recall_score, roc_auc_score, auc, precision_recall_curve, roc_curve\n",
    "from sklearn.linear_model import LogisticRegression   \n",
    "from sklearn.svm import SVC\n",
    "from sklearn.pipeline import Pipeline\n",
    "import pandas as pd                     # data processing, CSV file I/O (e.g. pd.read_csv)\n",
    "import numpy as np                      # linear algebra\n",
    "import seaborn as sns                   #  data visualization library \n",
    "from matplotlib import pyplot as plt    # plotting and visualization"
   ]
  },
  {
   "cell_type": "code",
   "execution_count": 5,
   "id": "7ad4cb0d",
   "metadata": {},
   "outputs": [
    {
     "data": {
      "text/plain": [
       "(5938, 4)"
      ]
     },
     "execution_count": 5,
     "metadata": {},
     "output_type": "execute_result"
    }
   ],
   "source": [
    "df = pd.read_csv(\"F:/1.SecondSemester/Manufacturing/ManuData/AnotherCom/final_supervised_data_0_1_2.csv\")\n",
    "df.shape"
   ]
  },
  {
   "cell_type": "code",
   "execution_count": 6,
   "id": "f252b49a",
   "metadata": {},
   "outputs": [
    {
     "name": "stdout",
     "output_type": "stream",
     "text": [
      "5938\n",
      "4\n"
     ]
    }
   ],
   "source": [
    "nRow, nCol = df.shape                # shape give the dimensions of data in thr form of rows and columns\n",
    "print(nRow)\n",
    "print(nCol)"
   ]
  },
  {
   "cell_type": "markdown",
   "id": "d2786eb6",
   "metadata": {},
   "source": [
    "# Pre-processing"
   ]
  },
  {
   "cell_type": "code",
   "execution_count": 7,
   "id": "7327ba21",
   "metadata": {},
   "outputs": [
    {
     "name": "stdout",
     "output_type": "stream",
     "text": [
      "['CNCSpindleLoad', 'AxisXLoad', 'AxisZLoad', 'cluster']\n"
     ]
    }
   ],
   "source": [
    "df=pd.DataFrame(df)          \n",
    "df_1=df.columns.tolist()              # This convert the column in the form of list.\n",
    "print(df_1)    "
   ]
  },
  {
   "cell_type": "code",
   "execution_count": 8,
   "id": "a7b702d1",
   "metadata": {},
   "outputs": [
    {
     "data": {
      "text/html": [
       "<div>\n",
       "<style scoped>\n",
       "    .dataframe tbody tr th:only-of-type {\n",
       "        vertical-align: middle;\n",
       "    }\n",
       "\n",
       "    .dataframe tbody tr th {\n",
       "        vertical-align: top;\n",
       "    }\n",
       "\n",
       "    .dataframe thead th {\n",
       "        text-align: right;\n",
       "    }\n",
       "</style>\n",
       "<table border=\"1\" class=\"dataframe\">\n",
       "  <thead>\n",
       "    <tr style=\"text-align: right;\">\n",
       "      <th></th>\n",
       "      <th>CNCSpindleLoad</th>\n",
       "      <th>AxisXLoad</th>\n",
       "      <th>AxisZLoad</th>\n",
       "      <th>cluster</th>\n",
       "    </tr>\n",
       "  </thead>\n",
       "  <tbody>\n",
       "    <tr>\n",
       "      <th>0</th>\n",
       "      <td>41</td>\n",
       "      <td>29</td>\n",
       "      <td>4</td>\n",
       "      <td>0</td>\n",
       "    </tr>\n",
       "    <tr>\n",
       "      <th>1</th>\n",
       "      <td>24</td>\n",
       "      <td>52</td>\n",
       "      <td>6</td>\n",
       "      <td>1</td>\n",
       "    </tr>\n",
       "    <tr>\n",
       "      <th>2</th>\n",
       "      <td>12</td>\n",
       "      <td>16</td>\n",
       "      <td>5</td>\n",
       "      <td>1</td>\n",
       "    </tr>\n",
       "    <tr>\n",
       "      <th>3</th>\n",
       "      <td>39</td>\n",
       "      <td>32</td>\n",
       "      <td>8</td>\n",
       "      <td>0</td>\n",
       "    </tr>\n",
       "    <tr>\n",
       "      <th>4</th>\n",
       "      <td>39</td>\n",
       "      <td>30</td>\n",
       "      <td>11</td>\n",
       "      <td>0</td>\n",
       "    </tr>\n",
       "  </tbody>\n",
       "</table>\n",
       "</div>"
      ],
      "text/plain": [
       "   CNCSpindleLoad  AxisXLoad  AxisZLoad  cluster\n",
       "0              41         29          4        0\n",
       "1              24         52          6        1\n",
       "2              12         16          5        1\n",
       "3              39         32          8        0\n",
       "4              39         30         11        0"
      ]
     },
     "execution_count": 8,
     "metadata": {},
     "output_type": "execute_result"
    }
   ],
   "source": [
    "df.head(5)                      #It helps to visualized the dataset"
   ]
  },
  {
   "cell_type": "code",
   "execution_count": 9,
   "id": "75c097a6",
   "metadata": {},
   "outputs": [
    {
     "data": {
      "text/plain": [
       "CNCSpindleLoad    0\n",
       "AxisXLoad         0\n",
       "AxisZLoad         0\n",
       "cluster           0\n",
       "dtype: int64"
      ]
     },
     "execution_count": 9,
     "metadata": {},
     "output_type": "execute_result"
    }
   ],
   "source": [
    "df.isnull().sum()       # This function gives the information about Null values against each features"
   ]
  },
  {
   "cell_type": "code",
   "execution_count": 10,
   "id": "08775e93",
   "metadata": {},
   "outputs": [],
   "source": [
    "from sklearn.preprocessing import LabelEncoder\n",
    "\n",
    "def labelencoder(df):                                     #It convert the catorigcal and string data into numerical values to \n",
    "    for c in df.columns:                                        #interperate easily.\n",
    "        if df[c].dtype=='object': \n",
    "            df[c] = df[c].fillna('N')\n",
    "            lbl = LabelEncoder()\n",
    "            lbl.fit(list(df[c].values))\n",
    "            df[c] = lbl.transform(df[c].values)\n",
    "    return df"
   ]
  },
  {
   "cell_type": "code",
   "execution_count": 11,
   "id": "281a3771",
   "metadata": {},
   "outputs": [
    {
     "data": {
      "text/html": [
       "<div>\n",
       "<style scoped>\n",
       "    .dataframe tbody tr th:only-of-type {\n",
       "        vertical-align: middle;\n",
       "    }\n",
       "\n",
       "    .dataframe tbody tr th {\n",
       "        vertical-align: top;\n",
       "    }\n",
       "\n",
       "    .dataframe thead th {\n",
       "        text-align: right;\n",
       "    }\n",
       "</style>\n",
       "<table border=\"1\" class=\"dataframe\">\n",
       "  <thead>\n",
       "    <tr style=\"text-align: right;\">\n",
       "      <th></th>\n",
       "      <th>CNCSpindleLoad</th>\n",
       "      <th>AxisXLoad</th>\n",
       "      <th>AxisZLoad</th>\n",
       "      <th>cluster</th>\n",
       "    </tr>\n",
       "  </thead>\n",
       "  <tbody>\n",
       "    <tr>\n",
       "      <th>0</th>\n",
       "      <td>41</td>\n",
       "      <td>29</td>\n",
       "      <td>4</td>\n",
       "      <td>0</td>\n",
       "    </tr>\n",
       "    <tr>\n",
       "      <th>1</th>\n",
       "      <td>24</td>\n",
       "      <td>52</td>\n",
       "      <td>6</td>\n",
       "      <td>1</td>\n",
       "    </tr>\n",
       "    <tr>\n",
       "      <th>2</th>\n",
       "      <td>12</td>\n",
       "      <td>16</td>\n",
       "      <td>5</td>\n",
       "      <td>1</td>\n",
       "    </tr>\n",
       "    <tr>\n",
       "      <th>3</th>\n",
       "      <td>39</td>\n",
       "      <td>32</td>\n",
       "      <td>8</td>\n",
       "      <td>0</td>\n",
       "    </tr>\n",
       "    <tr>\n",
       "      <th>4</th>\n",
       "      <td>39</td>\n",
       "      <td>30</td>\n",
       "      <td>11</td>\n",
       "      <td>0</td>\n",
       "    </tr>\n",
       "    <tr>\n",
       "      <th>...</th>\n",
       "      <td>...</td>\n",
       "      <td>...</td>\n",
       "      <td>...</td>\n",
       "      <td>...</td>\n",
       "    </tr>\n",
       "    <tr>\n",
       "      <th>5933</th>\n",
       "      <td>0</td>\n",
       "      <td>37</td>\n",
       "      <td>2</td>\n",
       "      <td>1</td>\n",
       "    </tr>\n",
       "    <tr>\n",
       "      <th>5934</th>\n",
       "      <td>0</td>\n",
       "      <td>36</td>\n",
       "      <td>1</td>\n",
       "      <td>1</td>\n",
       "    </tr>\n",
       "    <tr>\n",
       "      <th>5935</th>\n",
       "      <td>0</td>\n",
       "      <td>37</td>\n",
       "      <td>1</td>\n",
       "      <td>1</td>\n",
       "    </tr>\n",
       "    <tr>\n",
       "      <th>5936</th>\n",
       "      <td>0</td>\n",
       "      <td>37</td>\n",
       "      <td>1</td>\n",
       "      <td>1</td>\n",
       "    </tr>\n",
       "    <tr>\n",
       "      <th>5937</th>\n",
       "      <td>0</td>\n",
       "      <td>36</td>\n",
       "      <td>2</td>\n",
       "      <td>1</td>\n",
       "    </tr>\n",
       "  </tbody>\n",
       "</table>\n",
       "<p>5938 rows × 4 columns</p>\n",
       "</div>"
      ],
      "text/plain": [
       "      CNCSpindleLoad  AxisXLoad  AxisZLoad  cluster\n",
       "0                 41         29          4        0\n",
       "1                 24         52          6        1\n",
       "2                 12         16          5        1\n",
       "3                 39         32          8        0\n",
       "4                 39         30         11        0\n",
       "...              ...        ...        ...      ...\n",
       "5933               0         37          2        1\n",
       "5934               0         36          1        1\n",
       "5935               0         37          1        1\n",
       "5936               0         37          1        1\n",
       "5937               0         36          2        1\n",
       "\n",
       "[5938 rows x 4 columns]"
      ]
     },
     "execution_count": 11,
     "metadata": {},
     "output_type": "execute_result"
    }
   ],
   "source": [
    "data1=labelencoder(df)                            #calling function of labelencoder\n",
    "data1                                             #Visualization of data after performing labelencoder  technique"
   ]
  },
  {
   "cell_type": "code",
   "execution_count": 12,
   "id": "096f5a5e",
   "metadata": {},
   "outputs": [],
   "source": [
    "Labels=data1['cluster']                        # It take cluster column as a targeted label.\n",
    "dataX=data1.drop('cluster',axis=1)             #It drop the cluster column and consider all other values ."
   ]
  },
  {
   "cell_type": "markdown",
   "id": "67e7e780",
   "metadata": {},
   "source": [
    "# Handle Missing Values or NAN values"
   ]
  },
  {
   "cell_type": "code",
   "execution_count": 13,
   "id": "8fb229e7",
   "metadata": {},
   "outputs": [],
   "source": [
    "from sklearn.impute import SimpleImputer                                         #SimpleImputer  help to filed the missing \n",
    "                                                                                   # or non-values  using means or median.\n",
    "imputer = SimpleImputer(missing_values = np.nan, strategy = 'mean')\n",
    "imputer = imputer.fit(dataX)\n",
    "X = imputer.transform(dataX)"
   ]
  },
  {
   "cell_type": "markdown",
   "id": "35286239",
   "metadata": {},
   "source": [
    "# Feature Selection\n",
    "* Bruta or RFE are used as a feature selection method, It select useful features and drop less useful features."
   ]
  },
  {
   "cell_type": "code",
   "execution_count": 18,
   "id": "839a0a68",
   "metadata": {},
   "outputs": [
    {
     "name": "stdout",
     "output_type": "stream",
     "text": [
      "Iteration: 1 / 100\n",
      "Iteration: 2 / 100\n",
      "Iteration: 3 / 100\n",
      "Iteration: 4 / 100\n",
      "Iteration: 5 / 100\n",
      "Iteration: 6 / 100\n",
      "Iteration: 7 / 100\n",
      "Iteration: 8 / 100\n",
      "\n",
      "\n",
      "BorutaPy finished running.\n",
      "\n",
      "Iteration: \t9 / 100\n",
      "Confirmed: \t3\n",
      "Tentative: \t0\n",
      "Rejected: \t0\n",
      "[ True  True  True]\n",
      "[1 1 1]\n"
     ]
    }
   ],
   "source": [
    "from sklearn.ensemble import RandomForestClassifier\n",
    "model =RandomForestClassifier(max_depth=1) #For Boruta\n",
    "from boruta import BorutaPy\n",
    "feat_selector = BorutaPy(model, n_estimators='auto', verbose=1, random_state=101)\n",
    "feat_selector.fit(X,Labels)\n",
    "print(feat_selector.support_)  #Should we accept the featur\n",
    "print(feat_selector.ranking_) #Rank 1 is the best\n",
    "X_filtered1 = feat_selector.transform(X)  #Apply feature selection and return transformed data"
   ]
  },
  {
   "cell_type": "code",
   "execution_count": 19,
   "id": "0d202f0e",
   "metadata": {},
   "outputs": [],
   "source": [
    "Final_selected=X_filtered1"
   ]
  },
  {
   "cell_type": "code",
   "execution_count": 20,
   "id": "27081d4f",
   "metadata": {},
   "outputs": [],
   "source": [
    "from sklearn.preprocessing import MinMaxScaler\n",
    "\n",
    "Final_selected =  (Final_selected - Final_selected.mean()) / Final_selected.std()\n",
    "scaler = MinMaxScaler(feature_range=(0, 1))                        #It normalized the whole dataset between 0 and 1.\n",
    "Final_selected = scaler.fit_transform(Final_selected)"
   ]
  },
  {
   "cell_type": "code",
   "execution_count": 21,
   "id": "f5ebe6e7",
   "metadata": {},
   "outputs": [],
   "source": [
    "#This step divided the whole dataset into training and testing by keeping test size 20%\n",
    "\n",
    "X_train, X_test,y_train, y_test = train_test_split(Final_selected,Labels, test_size=0.20,random_state=9)"
   ]
  },
  {
   "cell_type": "code",
   "execution_count": 22,
   "id": "201f09b3",
   "metadata": {},
   "outputs": [
    {
     "name": "stdout",
     "output_type": "stream",
     "text": [
      "training features = (4750, 3)\n",
      "testing features   = (4750,)\n",
      "training labels= (1188, 3)\n",
      "testing labels = (1188,)\n"
     ]
    }
   ],
   "source": [
    "print('training features =',X_train.shape)\n",
    "print('testing features   =',y_train.shape)\n",
    "print('training labels=',X_test.shape)\n",
    "print('testing labels =',y_test.shape)"
   ]
  },
  {
   "cell_type": "markdown",
   "id": "bdbd68d7",
   "metadata": {},
   "source": [
    "# RandomForest (RF)"
   ]
  },
  {
   "cell_type": "code",
   "execution_count": 23,
   "id": "660dba6d",
   "metadata": {},
   "outputs": [],
   "source": [
    "from sklearn.ensemble import RandomForestClassifier\n",
    "model = RandomForestClassifier(n_estimators=100)       \n",
    "model.fit(X_train, y_train)\n",
    "prediction = model.predict(X_test)"
   ]
  },
  {
   "cell_type": "code",
   "execution_count": 24,
   "id": "2b52926f",
   "metadata": {},
   "outputs": [
    {
     "name": "stdout",
     "output_type": "stream",
     "text": [
      "              precision    recall  f1-score   support\n",
      "\n",
      "           0       1.00      0.99      1.00       402\n",
      "           1       1.00      1.00      1.00       757\n",
      "           2       0.97      0.97      0.97        29\n",
      "\n",
      "    accuracy                           1.00      1188\n",
      "   macro avg       0.99      0.99      0.99      1188\n",
      "weighted avg       1.00      1.00      1.00      1188\n",
      "\n",
      "0.9966329966329966\n",
      "[[399   2   1]\n",
      " [  0 757   0]\n",
      " [  1   0  28]]\n"
     ]
    }
   ],
   "source": [
    "from sklearn.metrics import classification_report, accuracy_score, confusion_matrix\n",
    "print(classification_report(y_test, prediction))\n",
    "print(accuracy_score(y_test, prediction))\n",
    "print(confusion_matrix(y_test, prediction))"
   ]
  },
  {
   "cell_type": "markdown",
   "id": "ca3b78d0",
   "metadata": {},
   "source": [
    "# SVM"
   ]
  },
  {
   "cell_type": "code",
   "execution_count": 25,
   "id": "5630e99e",
   "metadata": {},
   "outputs": [],
   "source": [
    "from sklearn.svm import SVC\n",
    "from sklearn import svm\n",
    "#model = svm.LinearSVC(multi_class=\"ovr\")\n",
    "model = svm.SVC(kernel='rbf', gamma=7.9, C=20, decision_function_shape='ovo')\n",
    "model.fit(X_train, y_train)\n",
    "prediction = model.predict(X_test)"
   ]
  },
  {
   "cell_type": "code",
   "execution_count": 26,
   "id": "74565e0b",
   "metadata": {},
   "outputs": [
    {
     "name": "stdout",
     "output_type": "stream",
     "text": [
      "              precision    recall  f1-score   support\n",
      "\n",
      "           0       1.00      1.00      1.00       402\n",
      "           1       1.00      1.00      1.00       757\n",
      "           2       0.97      1.00      0.98        29\n",
      "\n",
      "    accuracy                           1.00      1188\n",
      "   macro avg       0.99      1.00      0.99      1188\n",
      "weighted avg       1.00      1.00      1.00      1188\n",
      "\n",
      "0.9983164983164983\n",
      "[[400   1   1]\n",
      " [  0 757   0]\n",
      " [  0   0  29]]\n"
     ]
    }
   ],
   "source": [
    "from sklearn.metrics import classification_report, accuracy_score, confusion_matrix\n",
    "print(classification_report(y_test, prediction))\n",
    "print(accuracy_score(y_test, prediction))\n",
    "print(confusion_matrix(y_test, prediction))"
   ]
  },
  {
   "cell_type": "markdown",
   "id": "4895af5e",
   "metadata": {},
   "source": [
    "# Decision Tree (DT)"
   ]
  },
  {
   "cell_type": "code",
   "execution_count": 27,
   "id": "0cc83ab0",
   "metadata": {},
   "outputs": [],
   "source": [
    "from sklearn.tree import DecisionTreeClassifier\n",
    "model = DecisionTreeClassifier()\n",
    "model.fit(X_train, y_train)\n",
    "prediction = model.predict(X_test)"
   ]
  },
  {
   "cell_type": "code",
   "execution_count": 28,
   "id": "13ec61b6",
   "metadata": {},
   "outputs": [
    {
     "name": "stdout",
     "output_type": "stream",
     "text": [
      "              precision    recall  f1-score   support\n",
      "\n",
      "           0       1.00      1.00      1.00       402\n",
      "           1       1.00      1.00      1.00       757\n",
      "           2       0.97      0.97      0.97        29\n",
      "\n",
      "    accuracy                           1.00      1188\n",
      "   macro avg       0.99      0.99      0.99      1188\n",
      "weighted avg       1.00      1.00      1.00      1188\n",
      "\n",
      "0.9966329966329966\n",
      "[[400   1   1]\n",
      " [  1 756   0]\n",
      " [  1   0  28]]\n"
     ]
    }
   ],
   "source": [
    "from sklearn.metrics import classification_report, accuracy_score, confusion_matrix\n",
    "print(classification_report(y_test, prediction))\n",
    "print(accuracy_score(y_test, prediction))\n",
    "print(confusion_matrix(y_test, prediction))"
   ]
  },
  {
   "cell_type": "markdown",
   "id": "a35542dd",
   "metadata": {},
   "source": [
    "# Gradient Boosting Machine(GBM)"
   ]
  },
  {
   "cell_type": "code",
   "execution_count": 29,
   "id": "5fb73e06",
   "metadata": {},
   "outputs": [],
   "source": [
    "from sklearn.ensemble import GradientBoostingClassifier\n",
    "model = GradientBoostingClassifier(random_state=101)\n",
    "model.fit(X_train, y_train)\n",
    "prediction = model.predict(X_test)"
   ]
  },
  {
   "cell_type": "code",
   "execution_count": 30,
   "id": "6afcf801",
   "metadata": {},
   "outputs": [
    {
     "name": "stdout",
     "output_type": "stream",
     "text": [
      "              precision    recall  f1-score   support\n",
      "\n",
      "           0       1.00      1.00      1.00       402\n",
      "           1       1.00      1.00      1.00       757\n",
      "           2       0.97      0.97      0.97        29\n",
      "\n",
      "    accuracy                           1.00      1188\n",
      "   macro avg       0.99      0.99      0.99      1188\n",
      "weighted avg       1.00      1.00      1.00      1188\n",
      "\n",
      "0.9974747474747475\n",
      "[[400   1   1]\n",
      " [  0 757   0]\n",
      " [  1   0  28]]\n"
     ]
    }
   ],
   "source": [
    "from sklearn.metrics import classification_report, accuracy_score, confusion_matrix\n",
    "print(classification_report(y_test, prediction))\n",
    "print(accuracy_score(y_test, prediction))\n",
    "print(confusion_matrix(y_test, prediction))"
   ]
  },
  {
   "cell_type": "markdown",
   "id": "781b78c1",
   "metadata": {},
   "source": [
    "# KNN"
   ]
  },
  {
   "cell_type": "code",
   "execution_count": 33,
   "id": "47c3ac83",
   "metadata": {},
   "outputs": [
    {
     "name": "stderr",
     "output_type": "stream",
     "text": [
      "C:\\Users\\Imtiyaj\\anaconda3\\lib\\site-packages\\sklearn\\neighbors\\_classification.py:228: FutureWarning: Unlike other reduction functions (e.g. `skew`, `kurtosis`), the default behavior of `mode` typically preserves the axis it acts along. In SciPy 1.11.0, this behavior will change: the default value of `keepdims` will become False, the `axis` over which the statistic is taken will be eliminated, and the value None will no longer be accepted. Set `keepdims` to True or False to avoid this warning.\n",
      "  mode, _ = stats.mode(_y[neigh_ind, k], axis=1)\n"
     ]
    }
   ],
   "source": [
    "from sklearn.neighbors import KNeighborsClassifier\n",
    "model = KNeighborsClassifier(n_neighbors=2)\n",
    "model.fit(X_train, y_train)\n",
    "prediction = model.predict(X_test)"
   ]
  },
  {
   "cell_type": "code",
   "execution_count": 34,
   "id": "d5c1034d",
   "metadata": {},
   "outputs": [
    {
     "name": "stdout",
     "output_type": "stream",
     "text": [
      "              precision    recall  f1-score   support\n",
      "\n",
      "           0       1.00      1.00      1.00       402\n",
      "           1       1.00      1.00      1.00       757\n",
      "           2       0.97      0.97      0.97        29\n",
      "\n",
      "    accuracy                           1.00      1188\n",
      "   macro avg       0.99      0.99      0.99      1188\n",
      "weighted avg       1.00      1.00      1.00      1188\n",
      "\n",
      "0.9966329966329966\n",
      "[[400   1   1]\n",
      " [  1 756   0]\n",
      " [  1   0  28]]\n"
     ]
    }
   ],
   "source": [
    "from sklearn.metrics import classification_report, accuracy_score, confusion_matrix\n",
    "print(classification_report(y_test, prediction))\n",
    "print(accuracy_score(y_test, prediction))\n",
    "print(confusion_matrix(y_test, prediction))"
   ]
  },
  {
   "cell_type": "markdown",
   "id": "56d1bd4e",
   "metadata": {},
   "source": [
    "# XGB"
   ]
  },
  {
   "cell_type": "code",
   "execution_count": 39,
   "id": "4200ff35",
   "metadata": {},
   "outputs": [],
   "source": [
    "from xgboost import XGBClassifier\n",
    "model = XGBClassifier()\n",
    "model.fit(X_train, y_train)\n",
    "prediction = model.predict(X_test)"
   ]
  },
  {
   "cell_type": "code",
   "execution_count": 40,
   "id": "fdb78d29",
   "metadata": {},
   "outputs": [
    {
     "name": "stdout",
     "output_type": "stream",
     "text": [
      "              precision    recall  f1-score   support\n",
      "\n",
      "           0       1.00      1.00      1.00       402\n",
      "           1       1.00      1.00      1.00       757\n",
      "           2       0.97      0.97      0.97        29\n",
      "\n",
      "    accuracy                           1.00      1188\n",
      "   macro avg       0.99      0.99      0.99      1188\n",
      "weighted avg       1.00      1.00      1.00      1188\n",
      "\n",
      "0.9966329966329966\n",
      "[[400   1   1]\n",
      " [  1 756   0]\n",
      " [  1   0  28]]\n"
     ]
    }
   ],
   "source": [
    "from sklearn.metrics import classification_report, accuracy_score, confusion_matrix\n",
    "print(classification_report(y_test, prediction))\n",
    "print(accuracy_score(y_test, prediction))\n",
    "print(confusion_matrix(y_test, prediction))"
   ]
  },
  {
   "cell_type": "markdown",
   "id": "242d7a8f",
   "metadata": {},
   "source": [
    "# MLP"
   ]
  },
  {
   "cell_type": "code",
   "execution_count": 41,
   "id": "87f5537c",
   "metadata": {},
   "outputs": [],
   "source": [
    "from sklearn.neural_network import MLPClassifier\n",
    "MLP = MLPClassifier(max_iter=1500,activation='relu', learning_rate_init=0.001,shuffle=True,\n",
    "                    learning_rate='constant', beta_1=0.999, beta_2=0.9 , momentum=0.88,\n",
    "                    power_t=0.9, solver='lbfgs', alpha=1e-6, random_state=101)"
   ]
  },
  {
   "cell_type": "code",
   "execution_count": 42,
   "id": "326441be",
   "metadata": {},
   "outputs": [],
   "source": [
    "MLP.fit(X_train, y_train)\n",
    "prediction = MLP.predict(X_test)"
   ]
  },
  {
   "cell_type": "code",
   "execution_count": 43,
   "id": "936af2e4",
   "metadata": {},
   "outputs": [
    {
     "name": "stdout",
     "output_type": "stream",
     "text": [
      "              precision    recall  f1-score   support\n",
      "\n",
      "           0       1.00      1.00      1.00       402\n",
      "           1       1.00      1.00      1.00       757\n",
      "           2       0.97      0.97      0.97        29\n",
      "\n",
      "    accuracy                           1.00      1188\n",
      "   macro avg       0.99      0.99      0.99      1188\n",
      "weighted avg       1.00      1.00      1.00      1188\n",
      "\n",
      "0.9983164983164983\n",
      "[[401   0   1]\n",
      " [  0 757   0]\n",
      " [  1   0  28]]\n"
     ]
    }
   ],
   "source": [
    "from sklearn.metrics import classification_report, accuracy_score, confusion_matrix\n",
    "print(classification_report(y_test, prediction))\n",
    "print(accuracy_score(y_test, prediction))\n",
    "print(confusion_matrix(y_test, prediction))"
   ]
  },
  {
   "cell_type": "code",
   "execution_count": null,
   "id": "4995ee02",
   "metadata": {},
   "outputs": [],
   "source": []
  }
 ],
 "metadata": {
  "kernelspec": {
   "display_name": "Python 3 (ipykernel)",
   "language": "python",
   "name": "python3"
  },
  "language_info": {
   "codemirror_mode": {
    "name": "ipython",
    "version": 3
   },
   "file_extension": ".py",
   "mimetype": "text/x-python",
   "name": "python",
   "nbconvert_exporter": "python",
   "pygments_lexer": "ipython3",
   "version": "3.9.13"
  }
 },
 "nbformat": 4,
 "nbformat_minor": 5
}
